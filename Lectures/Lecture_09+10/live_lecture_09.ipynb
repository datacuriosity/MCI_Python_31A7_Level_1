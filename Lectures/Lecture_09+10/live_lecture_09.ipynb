{
 "cells": [
  {
   "cell_type": "markdown",
   "id": "279f2093-4799-4f79-bfa6-d7cedc1203be",
   "metadata": {},
   "source": [
    "- Procedural-Oriented Programming -POP\n",
    "- Object - Oriented Programming"
   ]
  },
  {
   "cell_type": "markdown",
   "id": "d40b54a2-1bad-4132-9e12-5912eec87ac2",
   "metadata": {},
   "source": [
    "OOP\n",
    "- Class: Object\n",
    "    - Properties: static\n",
    "    - Methods / functions: dynamic\n",
    "\n",
    "- Dog:\n",
    "    - Properties: \n",
    "    - Methods: \n",
    "    \n",
    "OOP properties:\n",
    "- Abstraction: Tính trừu tượng\n",
    "- Encapsulation: Tính đóng gói\n",
    "- Inheritance: Tính kế thừa\n",
    "- Polymophism: Tính đa hình"
   ]
  },
  {
   "cell_type": "code",
   "execution_count": null,
   "id": "bdb84720-7a36-4370-9a61-69e49454ae36",
   "metadata": {},
   "outputs": [],
   "source": []
  }
 ],
 "metadata": {
  "kernelspec": {
   "display_name": "Python 3",
   "language": "python",
   "name": "python3"
  },
  "language_info": {
   "codemirror_mode": {
    "name": "ipython",
    "version": 3
   },
   "file_extension": ".py",
   "mimetype": "text/x-python",
   "name": "python",
   "nbconvert_exporter": "python",
   "pygments_lexer": "ipython3",
   "version": "3.7.10"
  }
 },
 "nbformat": 4,
 "nbformat_minor": 5
}
